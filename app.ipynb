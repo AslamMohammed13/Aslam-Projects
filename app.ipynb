{
 "cells": [
  {
   "cell_type": "code",
   "execution_count": 47,
   "id": "123e7434",
   "metadata": {},
   "outputs": [],
   "source": [
    "from typing import TypedDict, Annotated, Optional\n",
    "from langgraph.graph import add_messages, StateGraph, StateGraph, END\n",
    "from langchain_openai import ChatOpenAI\n",
    "from dotenv import load_dotenv\n",
    "from langchain_core.messages import HumanMessage, AIMessage\n",
    "from langchain_community.tools.tavily_search import TavilySearchResults\n",
    "from langgraph.checkpoint.memory import MemorySaver\n",
    "from uuid import uuid4\n",
    "import json\n",
    "\n",
    "\n",
    "load_dotenv()\n",
    "\n",
    "model = ChatOpenAI(model =\"gpt-4o\")"
   ]
  },
  {
   "cell_type": "code",
   "execution_count": 48,
   "id": "b311fbaa",
   "metadata": {},
   "outputs": [],
   "source": [
    "search_tool = TavilySearchResults(max_results=4)\n",
    "\n",
    "tools = [search_tool]\n",
    "\n",
    "memory =MemorySaver()\n",
    "\n",
    "llm_with_tools = model.bind_tools(tools)"
   ]
  },
  {
   "cell_type": "code",
   "execution_count": 49,
   "id": "1434453f",
   "metadata": {},
   "outputs": [
    {
     "data": {
      "text/plain": [
       "AIMessage(content='', additional_kwargs={'tool_calls': [{'id': 'call_n8xzBhn6tFD4Ok8Ewrqcj79H', 'function': {'arguments': '{\"query\":\"current weather in New York City\"}', 'name': 'tavily_search_results_json'}, 'type': 'function'}], 'refusal': None}, response_metadata={'token_usage': {'completion_tokens': 23, 'prompt_tokens': 88, 'total_tokens': 111, 'completion_tokens_details': {'accepted_prediction_tokens': 0, 'audio_tokens': 0, 'reasoning_tokens': 0, 'rejected_prediction_tokens': 0}, 'prompt_tokens_details': {'audio_tokens': 0, 'cached_tokens': 0}}, 'model_name': 'gpt-4o-2024-08-06', 'system_fingerprint': 'fp_80956533cb', 'id': 'chatcmpl-C5trwxFN7o97ORnwYrVVxPcv9S31I', 'service_tier': 'default', 'finish_reason': 'tool_calls', 'logprobs': None}, id='run--12382773-f97e-4e06-a2da-d470d896b302-0', tool_calls=[{'name': 'tavily_search_results_json', 'args': {'query': 'current weather in New York City'}, 'id': 'call_n8xzBhn6tFD4Ok8Ewrqcj79H', 'type': 'tool_call'}], usage_metadata={'input_tokens': 88, 'output_tokens': 23, 'total_tokens': 111, 'input_token_details': {'audio': 0, 'cache_read': 0}, 'output_token_details': {'audio': 0, 'reasoning': 0}})"
      ]
     },
     "execution_count": 49,
     "metadata": {},
     "output_type": "execute_result"
    }
   ],
   "source": [
    "llm_with_tools.invoke(\"What is the current weather in New York?\")"
   ]
  },
  {
   "cell_type": "code",
   "execution_count": null,
   "id": "9a299025",
   "metadata": {},
   "outputs": [],
   "source": [
    "import re\n",
    "\n",
    "def mask_pii(text: str) -> str:\n",
    "    \"\"\"Detect and mask PII data in the input text before sending to the LLM.\"\"\"\n",
    "\n",
    "    # --- Email ---\n",
    "    text = re.sub(r'[\\w\\.-]+@[\\w\\.-]+\\.\\w+', '[EMAIL]', text)\n",
    "\n",
    "    # --- Phone numbers ---\n",
    "    text = re.sub(r'(\\+?\\d{1,3})?[\\s-]?\\(?\\d{2,4}\\)?[\\s-]?\\d{3,4}[\\s-]?\\d{3,4}', '[PHONE]', text)\n",
    "\n",
    "    # --- Credit card ---\n",
    "    text = re.sub(r'\\b(?:\\d[ -]*?){13,16}\\b', '[CREDIT_CARD]', text)\n",
    "\n",
    "    # --- Address masking (allow unit/street + suburb + state + postcode + country) ---\n",
    "    address_pattern = re.compile(\n",
    "        r'([\\d/]+\\s+[\\w\\s]+,?\\s*)([A-Za-z\\s]+),\\s*([A-Za-z]{2,}|[A-Z]{2,3})\\s*(\\d{4}),?\\s*([A-Za-z\\s]+)',\n",
    "        re.IGNORECASE\n",
    "    )\n",
    "\n",
    "    def replace_address(match):\n",
    "        suburb = match.group(2).strip()\n",
    "        state = match.group(3).strip()\n",
    "        postcode = match.group(4).strip()\n",
    "        country = match.group(5).strip()\n",
    "        return f\"[ADDRESS], {suburb}, {state} {postcode}, {country}\"\n",
    "\n",
    "    text = address_pattern.sub(replace_address, text)\n",
    "\n",
    "    return text\n"
   ]
  },
  {
   "cell_type": "code",
   "execution_count": 51,
   "id": "8ca8b324",
   "metadata": {},
   "outputs": [],
   "source": [
    "from langchain_core.messages import AIMessage, HumanMessage, ToolMessage\n",
    "from langgraph.prebuilt import ToolNode\n",
    "\n",
    "class State(TypedDict):\n",
    "    messages: Annotated[list, add_messages]\n",
    "\n",
    "async def model(state: State):\n",
    "    result = await llm_with_tools.ainvoke(state[\"messages\"])\n",
    "    return {\n",
    "        \"messages\": [result], \n",
    "    }\n",
    "\n",
    "async def tools_router(state: State):\n",
    "    last_message = state[\"messages\"][-1]\n",
    "\n",
    "    if(hasattr(last_message, \"tool_calls\") and len(last_message.tool_calls) > 0):\n",
    "        return \"tool_node\"\n",
    "    else: \n",
    "        return END\n",
    "\n",
    "async def tool_node(state):\n",
    "    \"\"\"Custom tool node that handles tool calls from the LLM.\"\"\"\n",
    "    # Get the tool calls from the last message\n",
    "    tool_calls = state[\"messages\"][-1].tool_calls\n",
    "    \n",
    "    # Initialize list to store tool messages\n",
    "    tool_messages = []\n",
    "    \n",
    "    # Process each tool call\n",
    "    for tool_call in tool_calls:\n",
    "        tool_name = tool_call[\"name\"]\n",
    "        tool_args = tool_call[\"args\"]\n",
    "        tool_id = tool_call[\"id\"]\n",
    "        \n",
    "        # Handle the search tool\n",
    "        if tool_name == \"tavily_search_results_json\":\n",
    "            # Execute the search tool with the provided arguments\n",
    "            search_results = await search_tool.ainvoke(tool_args)\n",
    "            \n",
    "            # Create a ToolMessage for this result\n",
    "            tool_message = ToolMessage(\n",
    "                content=str(search_results),\n",
    "                tool_call_id=tool_id,\n",
    "                name=tool_name\n",
    "            )\n",
    "            \n",
    "            tool_messages.append(tool_message)\n",
    "    \n",
    "    # Add the tool messages to the state\n",
    "    return {\"messages\": tool_messages}\n",
    "\n",
    "graph_builder = StateGraph(State)\n",
    "\n",
    "graph_builder.add_node(\"model\", model)\n",
    "graph_builder.add_node(\"tool_node\", tool_node)\n",
    "graph_builder.set_entry_point(\"model\")\n",
    "\n",
    "graph_builder.add_conditional_edges(\"model\", tools_router)\n",
    "graph_builder.add_edge(\"tool_node\", \"model\")\n",
    "\n",
    "graph = graph_builder.compile(checkpointer=memory)"
   ]
  },
  {
   "cell_type": "code",
   "execution_count": 52,
   "id": "2d5a0449",
   "metadata": {},
   "outputs": [
    {
     "data": {
      "image/png": "[encoded data removed]",
      "text/plain": [
       "<IPython.core.display.Image object>"
      ]
     },
     "metadata": {},
     "output_type": "display_data"
    }
   ],
   "source": [
    "from IPython.display import Image, display\n",
    "from langchain_core.runnables.graph import MermaidDrawMethod\n",
    "\n",
    "display(\n",
    "    Image(\n",
    "        graph.get_graph().draw_mermaid_png(\n",
    "            draw_method=MermaidDrawMethod.API\n",
    "        )\n",
    "    )\n",
    ")"
   ]
  },
  {
   "cell_type": "code",
   "execution_count": 42,
   "id": "d6d92b04",
   "metadata": {},
   "outputs": [
    {
     "data": {
      "text/plain": [
       "{'messages': [HumanMessage(content=\"Hi, I'm Aslam?\", additional_kwargs={}, response_metadata={}, id='4bd6f73c-ef84-4783-8970-551eec10a740'),\n",
       "  AIMessage(content='Hello Aslam! How can I assist you today?', additional_kwargs={'refusal': None}, response_metadata={'token_usage': {'completion_tokens': 12, 'prompt_tokens': 85, 'total_tokens': 97, 'completion_tokens_details': {'accepted_prediction_tokens': 0, 'audio_tokens': 0, 'reasoning_tokens': 0, 'rejected_prediction_tokens': 0}, 'prompt_tokens_details': {'audio_tokens': 0, 'cached_tokens': 0}}, 'model_name': 'gpt-4o-2024-08-06', 'system_fingerprint': 'fp_07871e2ad8', 'id': 'chatcmpl-C5DYzqdi60COLSHcsVGoBeaqtrYSR', 'service_tier': 'default', 'finish_reason': 'stop', 'logprobs': None}, id='run--3fdafd67-29af-4334-9bc2-7effb459135a-0', usage_metadata={'input_tokens': 85, 'output_tokens': 12, 'total_tokens': 97, 'input_token_details': {'audio': 0, 'cache_read': 0}, 'output_token_details': {'audio': 0, 'reasoning': 0}}),\n",
       "  HumanMessage(content='When is the next spacex launch?', additional_kwargs={}, response_metadata={}, id='65035bee-e814-4482-bbf0-b8471a30342e'),\n",
       "  AIMessage(content='', additional_kwargs={'tool_calls': [{'id': 'call_D451CqoqaYm6uaWKvIkdXeq1', 'function': {'arguments': '{\"query\":\"next SpaceX launch date\"}', 'name': 'tavily_search_results_json'}, 'type': 'function'}], 'refusal': None}, response_metadata={'token_usage': {'completion_tokens': 22, 'prompt_tokens': 112, 'total_tokens': 134, 'completion_tokens_details': {'accepted_prediction_tokens': 0, 'audio_tokens': 0, 'reasoning_tokens': 0, 'rejected_prediction_tokens': 0}, 'prompt_tokens_details': {'audio_tokens': 0, 'cached_tokens': 0}}, 'model_name': 'gpt-4o-2024-08-06', 'system_fingerprint': 'fp_07871e2ad8', 'id': 'chatcmpl-C5DZMDbPpVOe5Z8fqpOaDByP4bWCW', 'service_tier': 'default', 'finish_reason': 'tool_calls', 'logprobs': None}, id='run--54d4fcf2-01a0-4d48-b589-acdd9b3cc76b-0', tool_calls=[{'name': 'tavily_search_results_json', 'args': {'query': 'next SpaceX launch date'}, 'id': 'call_D451CqoqaYm6uaWKvIkdXeq1', 'type': 'tool_call'}], usage_metadata={'input_tokens': 112, 'output_tokens': 22, 'total_tokens': 134, 'input_token_details': {'audio': 0, 'cache_read': 0}, 'output_token_details': {'audio': 0, 'reasoning': 0}}),\n",
       "  ToolMessage(content='[{\\'title\\': \\'SpaceX Launch Schedule - RocketLaunch.Live\\', \\'url\\': \\'https://www.rocketlaunch.live/?filter=spacex\\', \\'content\\': \\'| Selected |\\\\n| --- |\\\\n| Providers | all |\\\\n| Locations | all |\\\\n| Launches | 25 |\\\\n\\\\n### Next SpaceX Launch\\\\n\\\\nJUL 30\\\\n\\\\n03:30 \\\\n\\\\n#### Starlink (10-29) Mission (Falcon 9)\")\\\\n\\\\n#### Falcon 9\\\\n\\\\nSpaceX\\\\n\\\\n SLC-40, Cape Canaveral SFS\\\\n\\\\nFlorida, United States\\\\n\\\\n  \\\\n\\\\nOn launch day, head back here to watch the live stream! (if available)\\\\n\\\\n  \\\\n\\\\nSeries: SpaceX Starlink\\\\n\\\\nJUL 29\\\\n\\\\nJUL 30\\\\n\\\\n03:30 \\\\n\\\\n#### Starlink (10-29) Mission (Falcon 9)\")\\\\n\\\\n#### Falcon 9\\\\n\\\\nSpaceX\\\\n\\\\n SLC-40, Cape Canaveral SFS\\\\n\\\\nFlorida, United States [...] Florida, United States\\\\n\\\\nJUN 19 2024\\\\n\\\\n2025\")\\\\n\\\\n#### ASLON-45\")\\\\n\\\\n#### Ravn\\\\n\\\\nAevum\\\\n\\\\n Pad TBD, United States TBD\\\\n\\\\nUnited States\\\\n\\\\nVector relinquishes Air Force launch contract, mission re-awarded to Aevum (SpaceNews)\\\\n\\\\nAir Launch\\\\n\\\\nJUL 11 2024\\\\n\\\\n2025\")\\\\n\\\\n#### GO-1 Mission\")\\\\n\\\\n#### Ariane 6\\\\n\\\\nArianespace\\\\n\\\\n ELA-4, Guiana Space Centre\\\\n\\\\nFrench Guiana\\\\n\\\\nJAN 16\\\\n\\\\n2025\")\\\\n\\\\n#### Optus-11\")\\\\n\\\\n#### Ariane 6\\\\n\\\\nArianespace\\\\n\\\\n ELA-4, Guiana Space Centre\\\\n\\\\nFrench Guiana [...] Florida, United States\\\\n\\\\nDEC 08 2023\\\\n\\\\n2025\")\\\\n\\\\n#### SKY Perfect JSAT\")\\\\n\\\\n#### New Glenn\\\\n\\\\nBlue Origin\\\\n\\\\n LC-36, Cape Canaveral SFS\\\\n\\\\nFlorida, United States\\\\n\\\\nDEC 08 2023\\\\n\\\\n2025\")\\\\n\\\\n#### MicroCarb\")\\\\n\\\\n#### Vega C\\\\n\\\\nArianespace\\\\n\\\\n ELA-1, Guiana Space Centre\\\\n\\\\nFrench Guiana\\\\n\\\\nPlanetary Science\\\\n\\\\nJAN 16\\\\n\\\\n2025\")\\\\n\\\\n#### RISAT-2A\")\\\\n\\\\n#### PSLV\\\\n\\\\nISRO\\\\n\\\\n TBD, Satish Dhawan Space Centre\\\\n\\\\nIndia\\\\n\\\\nEarth Observation Satellite\\\\n\\\\nOCT 26 2024\\\\n\\\\n2025\")\\\\n\\\\n#### CARBONITE-4\")\\\\n\\\\n#### Alpha\\\\n\\\\nFirefly\\\\n\\\\n SLC-2W, Vandenberg SFB\\', \\'score\\': 0.88564163}, {\\'title\\': \\'Space Launch Schedule & Live Videos: Stream Rockets Launches\\', \\'url\\': \\'https://www.spacelaunchschedule.com/\\', \\'content\\': \\'Go For Launch \\\\n\\\\n Wed • Aug 20th, 2025\\\\n\\\\n 5:13 PM UTC \\\\n\\\\n Baikonur Cosmodrome, Republic of Kazakhstan \\\\n\\\\n (USSF-36)Falcon 9 Block 5 ---------------------------------------\\\\n### SpaceX\\\\n\\\\n Date/Time TBD \\\\n\\\\n Projected To Launch\\\\n\\\\n Thu • Aug 21st, 2025 \\\\n\\\\n Kennedy Space Center, FL, USA \\\\n\\\\n\\\\n   Vulcan\\\\n   New Glenn\\\\n   New Shepard\\\\n\\\\n### View The Rocket Launch Schedule\\\\n\\\\n### By Location\\', \\'score\\': 0.8752871}, {\\'title\\': \\'SpaceX aims to launch Starship Flight 10 test flight on Aug. 24 | Space\\', \\'url\\': \\'https://www.space.com/space-exploration/launches-spacecraft/spacex-targeting-date-for-10th-starship-rocket-test-flight\\', \\'content\\': \\'SpaceX says the 10th integrated test flight of its Super Heavy Starship launch vehicle could launch as soon as Aug. 24.\\\\n\\\\nLiftoff from the company\\\\\\'s Starbase, Texas, manufacturing and test site is expected during a launch window that begins at 7:30 p.m. EDT (2330 GMT). SpaceX announced the launch date on X Friday (Aug. 15), about one week later than SpaceX CEO Elon Musk predicted in mid-July when he estimated Starship would launch again in \"about three weeks.\" [...] Skip to main content\\\\n\\\\n# SpaceX aims to launch Starship Flight 10 test flight on Aug. 24\\\\n\\\\nNews\\\\n\\\\nBy\\\\nJosh Dinner \\\\n\\\\npublished\\\\n\\\\nIt will be the 10th launch to date of a fully stacked Starship vehicle.\\\\n\\\\nSpaceX\\\\\\'s Starship upper stage soars high on the vehicle\\\\\\'s ninth test flight, on May 27, 2025. SpaceX lost control of the upper stage about 30 minutes after liftoff that day.\\\\n(Image credit: SpaceX)\\', \\'score\\': 0.86024034}, {\\'title\\': \\'Next Spaceflight | Rocket Launch Schedule\\', \\'url\\': \\'https://nextspaceflight.com/\\', \\'content\\': \\'Next Spaceflight | Rocket Launch Schedule\\\\n\\\\n===============\\\\n\\\\nNEXT SPACEFLIGHTLaunchesEventsStarshipRocketsReuseLocations\\\\n\\\\nNEXT SPACEFLIGHTImage 1 LaunchesImage 2 EventsImage 3 StarshipImage 4 RocketsImage 5 ReuseImage 6 Locations\\\\n\\\\n SpaceX \\\\n\\\\n##### Falcon 9 Block 5 | Starlink Group 17-4\\\\n\\\\n OCISLY \\\\n\\\\nTue Aug 12, 2025 02:05 UTC\\\\n\\\\nSLC-4E, Vandenberg SFB, California, USA \\\\n\\\\nDetailsWatch\\\\n\\\\n ULA \\\\n\\\\n##### Vulcan VC4S | USSF-106 (NTS-3 & Others)\\\\n\\\\nTue Aug 12, 2025 23:59 UTC\\', \\'score\\': 0.8464638}]', name='tavily_search_results_json', id='80904cfd-90b3-4996-9318-319364db3964', tool_call_id='call_D451CqoqaYm6uaWKvIkdXeq1'),\n",
       "  AIMessage(content='The next SpaceX launch is scheduled for July 30 at 03:30 (UTC). This launch will be the Starlink (10-29) Mission using a Falcon 9 rocket, and it will take place at SLC-40, Cape Canaveral Space Force Station in Florida, United States.\\n\\nFor more details, you can check the [SpaceX Launch Schedule](https://www.rocketlaunch.live/?filter=spacex).', additional_kwargs={'refusal': None}, response_metadata={'token_usage': {'completion_tokens': 92, 'prompt_tokens': 1442, 'total_tokens': 1534, 'completion_tokens_details': {'accepted_prediction_tokens': 0, 'audio_tokens': 0, 'reasoning_tokens': 0, 'rejected_prediction_tokens': 0}, 'prompt_tokens_details': {'audio_tokens': 0, 'cached_tokens': 0}}, 'model_name': 'gpt-4o-2024-08-06', 'system_fingerprint': 'fp_07871e2ad8', 'id': 'chatcmpl-C5DZQ64hJ7yTfq0EhWuB1GRDx2Gun', 'service_tier': 'default', 'finish_reason': 'stop', 'logprobs': None}, id='run--5714b54f-2eed-453d-8b46-5dd142c18e4c-0', usage_metadata={'input_tokens': 1442, 'output_tokens': 92, 'total_tokens': 1534, 'input_token_details': {'audio': 0, 'cache_read': 0}, 'output_token_details': {'audio': 0, 'reasoning': 0}}),\n",
       "  HumanMessage(content='When is the next spacex launch?', additional_kwargs={}, response_metadata={}, id='db50a2b5-196a-40f3-a5f1-5646ffe6e251'),\n",
       "  AIMessage(content='The next SpaceX launch is scheduled for July 30 at 03:30 (UTC). This launch will be the Starlink (10-29) Mission using a Falcon 9 rocket at the SLC-40, Cape Canaveral Space Force Station in Florida, United States.', additional_kwargs={'refusal': None}, response_metadata={'token_usage': {'completion_tokens': 59, 'prompt_tokens': 1549, 'total_tokens': 1608, 'completion_tokens_details': {'accepted_prediction_tokens': 0, 'audio_tokens': 0, 'reasoning_tokens': 0, 'rejected_prediction_tokens': 0}, 'prompt_tokens_details': {'audio_tokens': 0, 'cached_tokens': 0}}, 'model_name': 'gpt-4o-2024-08-06', 'system_fingerprint': 'fp_07871e2ad8', 'id': 'chatcmpl-C5DoqI0pPVy6hRwrj2ot0yN09Tyjd', 'service_tier': 'default', 'finish_reason': 'stop', 'logprobs': None}, id='run--596847c9-c555-48a6-b313-53c1cd598488-0', usage_metadata={'input_tokens': 1549, 'output_tokens': 59, 'total_tokens': 1608, 'input_token_details': {'audio': 0, 'cache_read': 0}, 'output_token_details': {'audio': 0, 'reasoning': 0}}),\n",
       "  HumanMessage(content='When is the next spacex launch?', additional_kwargs={}, response_metadata={}, id='71212851-e9ff-4200-977a-6d5a0c4d4dac'),\n",
       "  AIMessage(content='', additional_kwargs={'tool_calls': [{'id': 'call_hENJc94h1AOlGmmfbnLPm6l4', 'function': {'arguments': '{\"query\":\"next SpaceX launch date\"}', 'name': 'tavily_search_results_json'}, 'type': 'function'}], 'refusal': None}, response_metadata={'token_usage': {'completion_tokens': 22, 'prompt_tokens': 1623, 'total_tokens': 1645, 'completion_tokens_details': {'accepted_prediction_tokens': 0, 'audio_tokens': 0, 'reasoning_tokens': 0, 'rejected_prediction_tokens': 0}, 'prompt_tokens_details': {'audio_tokens': 0, 'cached_tokens': 1536}}, 'model_name': 'gpt-4o-2024-08-06', 'system_fingerprint': 'fp_07871e2ad8', 'id': 'chatcmpl-C5DqV9YwJUxue0N7SEV3AZbV0sxlE', 'service_tier': 'default', 'finish_reason': 'tool_calls', 'logprobs': None}, id='run--f2e7254d-9629-4d2a-b779-9e62ea03ff7e-0', tool_calls=[{'name': 'tavily_search_results_json', 'args': {'query': 'next SpaceX launch date'}, 'id': 'call_hENJc94h1AOlGmmfbnLPm6l4', 'type': 'tool_call'}], usage_metadata={'input_tokens': 1623, 'output_tokens': 22, 'total_tokens': 1645, 'input_token_details': {'audio': 0, 'cache_read': 1536}, 'output_token_details': {'audio': 0, 'reasoning': 0}}),\n",
       "  ToolMessage(content='[{\\'title\\': \\'SpaceX Launch Schedule - RocketLaunch.Live\\', \\'url\\': \\'https://www.rocketlaunch.live/?filter=spacex\\', \\'content\\': \\'| Selected |\\\\n| --- |\\\\n| Providers | all |\\\\n| Locations | all |\\\\n| Launches | 25 |\\\\n\\\\n### Next SpaceX Launch\\\\n\\\\nJUL 30\\\\n\\\\n03:30 \\\\n\\\\n#### Starlink (10-29) Mission (Falcon 9)\")\\\\n\\\\n#### Falcon 9\\\\n\\\\nSpaceX\\\\n\\\\n SLC-40, Cape Canaveral SFS\\\\n\\\\nFlorida, United States\\\\n\\\\n  \\\\n\\\\nOn launch day, head back here to watch the live stream! (if available)\\\\n\\\\n  \\\\n\\\\nSeries: SpaceX Starlink\\\\n\\\\nJUL 29\\\\n\\\\nJUL 30\\\\n\\\\n03:30 \\\\n\\\\n#### Starlink (10-29) Mission (Falcon 9)\")\\\\n\\\\n#### Falcon 9\\\\n\\\\nSpaceX\\\\n\\\\n SLC-40, Cape Canaveral SFS\\\\n\\\\nFlorida, United States [...] Florida, United States\\\\n\\\\nJUN 19 2024\\\\n\\\\n2025\")\\\\n\\\\n#### ASLON-45\")\\\\n\\\\n#### Ravn\\\\n\\\\nAevum\\\\n\\\\n Pad TBD, United States TBD\\\\n\\\\nUnited States\\\\n\\\\nVector relinquishes Air Force launch contract, mission re-awarded to Aevum (SpaceNews)\\\\n\\\\nAir Launch\\\\n\\\\nJUL 11 2024\\\\n\\\\n2025\")\\\\n\\\\n#### GO-1 Mission\")\\\\n\\\\n#### Ariane 6\\\\n\\\\nArianespace\\\\n\\\\n ELA-4, Guiana Space Centre\\\\n\\\\nFrench Guiana\\\\n\\\\nJAN 16\\\\n\\\\n2025\")\\\\n\\\\n#### Optus-11\")\\\\n\\\\n#### Ariane 6\\\\n\\\\nArianespace\\\\n\\\\n ELA-4, Guiana Space Centre\\\\n\\\\nFrench Guiana [...] Florida, United States\\\\n\\\\nDEC 08 2023\\\\n\\\\n2025\")\\\\n\\\\n#### SKY Perfect JSAT\")\\\\n\\\\n#### New Glenn\\\\n\\\\nBlue Origin\\\\n\\\\n LC-36, Cape Canaveral SFS\\\\n\\\\nFlorida, United States\\\\n\\\\nDEC 08 2023\\\\n\\\\n2025\")\\\\n\\\\n#### MicroCarb\")\\\\n\\\\n#### Vega C\\\\n\\\\nArianespace\\\\n\\\\n ELA-1, Guiana Space Centre\\\\n\\\\nFrench Guiana\\\\n\\\\nPlanetary Science\\\\n\\\\nJAN 16\\\\n\\\\n2025\")\\\\n\\\\n#### RISAT-2A\")\\\\n\\\\n#### PSLV\\\\n\\\\nISRO\\\\n\\\\n TBD, Satish Dhawan Space Centre\\\\n\\\\nIndia\\\\n\\\\nEarth Observation Satellite\\\\n\\\\nOCT 26 2024\\\\n\\\\n2025\")\\\\n\\\\n#### CARBONITE-4\")\\\\n\\\\n#### Alpha\\\\n\\\\nFirefly\\\\n\\\\n SLC-2W, Vandenberg SFB\\', \\'score\\': 0.88564163}, {\\'title\\': \\'Space Launch Schedule & Live Videos: Stream Rockets Launches\\', \\'url\\': \\'https://www.spacelaunchschedule.com/\\', \\'content\\': \\'Go For Launch \\\\n\\\\n Wed • Aug 20th, 2025\\\\n\\\\n 5:13 PM UTC \\\\n\\\\n Baikonur Cosmodrome, Republic of Kazakhstan \\\\n\\\\n (USSF-36)Falcon 9 Block 5 ---------------------------------------\\\\n### SpaceX\\\\n\\\\n Date/Time TBD \\\\n\\\\n Projected To Launch\\\\n\\\\n Thu • Aug 21st, 2025 \\\\n\\\\n Kennedy Space Center, FL, USA \\\\n\\\\n\\\\n   Vulcan\\\\n   New Glenn\\\\n   New Shepard\\\\n\\\\n### View The Rocket Launch Schedule\\\\n\\\\n### By Location\\', \\'score\\': 0.8752871}, {\\'title\\': \\'SpaceX aims to launch Starship Flight 10 test flight on Aug. 24 | Space\\', \\'url\\': \\'https://www.space.com/space-exploration/launches-spacecraft/spacex-targeting-date-for-10th-starship-rocket-test-flight\\', \\'content\\': \\'SpaceX says the 10th integrated test flight of its Super Heavy Starship launch vehicle could launch as soon as Aug. 24.\\\\n\\\\nLiftoff from the company\\\\\\'s Starbase, Texas, manufacturing and test site is expected during a launch window that begins at 7:30 p.m. EDT (2330 GMT). SpaceX announced the launch date on X Friday (Aug. 15), about one week later than SpaceX CEO Elon Musk predicted in mid-July when he estimated Starship would launch again in \"about three weeks.\" [...] Skip to main content\\\\n\\\\n# SpaceX aims to launch Starship Flight 10 test flight on Aug. 24\\\\n\\\\nNews\\\\n\\\\nBy\\\\nJosh Dinner \\\\n\\\\npublished\\\\n\\\\nIt will be the 10th launch to date of a fully stacked Starship vehicle.\\\\n\\\\nSpaceX\\\\\\'s Starship upper stage soars high on the vehicle\\\\\\'s ninth test flight, on May 27, 2025. SpaceX lost control of the upper stage about 30 minutes after liftoff that day.\\\\n(Image credit: SpaceX)\\', \\'score\\': 0.86024034}, {\\'title\\': \\'Next Spaceflight | Rocket Launch Schedule\\', \\'url\\': \\'https://nextspaceflight.com/\\', \\'content\\': \\'Next Spaceflight | Rocket Launch Schedule\\\\n\\\\n===============\\\\n\\\\nNEXT SPACEFLIGHTLaunchesEventsStarshipRocketsReuseLocations\\\\n\\\\nNEXT SPACEFLIGHTImage 1 LaunchesImage 2 EventsImage 3 StarshipImage 4 RocketsImage 5 ReuseImage 6 Locations\\\\n\\\\n SpaceX \\\\n\\\\n##### Falcon 9 Block 5 | Starlink Group 17-4\\\\n\\\\n OCISLY \\\\n\\\\nTue Aug 12, 2025 02:05 UTC\\\\n\\\\nSLC-4E, Vandenberg SFB, California, USA \\\\n\\\\nDetailsWatch\\\\n\\\\n ULA \\\\n\\\\n##### Vulcan VC4S | USSF-106 (NTS-3 & Others)\\\\n\\\\nTue Aug 12, 2025 23:59 UTC\\', \\'score\\': 0.8464638}]', name='tavily_search_results_json', id='59648f18-7ebb-4455-b2c2-813437cf10b3', tool_call_id='call_hENJc94h1AOlGmmfbnLPm6l4'),\n",
       "  AIMessage(content='The next SpaceX launch is scheduled for July 30 at 03:30 (UTC). This will be the Starlink (10-29) Mission using a Falcon 9 rocket. The launch will occur at SLC-40, Cape Canaveral Space Force Station in Florida, United States.', additional_kwargs={'refusal': None}, response_metadata={'token_usage': {'completion_tokens': 62, 'prompt_tokens': 2953, 'total_tokens': 3015, 'completion_tokens_details': {'accepted_prediction_tokens': 0, 'audio_tokens': 0, 'reasoning_tokens': 0, 'rejected_prediction_tokens': 0}, 'prompt_tokens_details': {'audio_tokens': 0, 'cached_tokens': 1536}}, 'model_name': 'gpt-4o-2024-08-06', 'system_fingerprint': 'fp_07871e2ad8', 'id': 'chatcmpl-C5DqXobX6uH0EDuPzrehaOfjQJXkZ', 'service_tier': 'default', 'finish_reason': 'stop', 'logprobs': None}, id='run--e5be41d3-75d9-4720-adb4-8f58d2f862f7-0', usage_metadata={'input_tokens': 2953, 'output_tokens': 62, 'total_tokens': 3015, 'input_token_details': {'audio': 0, 'cache_read': 1536}, 'output_token_details': {'audio': 0, 'reasoning': 0}})]}"
      ]
     },
     "execution_count": 42,
     "metadata": {},
     "output_type": "execute_result"
    }
   ],
   "source": [
    "config = {\n",
    "    \"configurable\":{\n",
    "        \"thread_id\":5\n",
    "    }\n",
    "}\n",
    "\n",
    "response = await graph.ainvoke({\n",
    "    \"messages\": [\n",
    "        HumanMessage(content=\"When is the next spacex launch?\")]}, config=config)\n",
    "\n",
    "response\n"
   ]
  },
  {
   "cell_type": "code",
   "execution_count": 66,
   "id": "396467ca",
   "metadata": {},
   "outputs": [
    {
     "name": "stdout",
     "output_type": "stream",
     "text": [
      "My name is Aslam Mohammed, my email is [EMAIL] and my address is [ADDRESS], St Kilda, Victoria 3182, Australia.\n",
      "Hello Aslam Mohammed! If there's anything you need help with, feel free to let me know."
     ]
    }
   ],
   "source": [
    "masked_message = mask_pii(\n",
    "    \"My name is Aslam Mohammed, my email is aslamafreed13@gmail.com and my address is \"\n",
    "    \"1/13 Iona street, St Kilda, Victoria 3182, Australia.\"\n",
    ")\n",
    "\n",
    "print(masked_message)\n",
    "\n",
    "config = { \n",
    "    \"configurable\":{\n",
    "        \"thread_id\":9\n",
    "    }\n",
    "}\n",
    "\n",
    "events =  graph.astream_events({\n",
    "    \"messages\": [\n",
    "        HumanMessage(content=masked_message)]}, config=config,version=\"v2\")\n",
    "\n",
    "async for event in events:\n",
    "    if event[\"event\"] == \"on_chat_model_stream\":\n",
    "        print(event[\"data\"][\"chunk\"].content, end=\"\", flush =True)\n"
   ]
  },
  {
   "cell_type": "code",
   "execution_count": 67,
   "id": "2b01e23c",
   "metadata": {},
   "outputs": [
    {
     "name": "stdout",
     "output_type": "stream",
     "text": [
      "Your name is Aslam Mohammed. However, I'm unable to recall your email and address from previous interactions. If you provide them again, I'll be happy to assist you with any information or tasks you need help with."
     ]
    }
   ],
   "source": [
    "\n",
    "config = { \n",
    "    \"configurable\":{\n",
    "        \"thread_id\":9\n",
    "    }\n",
    "}\n",
    "\n",
    "events =  graph.astream_events({\n",
    "    \"messages\": [\n",
    "        HumanMessage(content=\"what is my name, email and address ?\")]}, config=config,version=\"v2\")\n",
    "\n",
    "async for event in events:\n",
    "    if event[\"event\"] == \"on_chat_model_stream\":\n",
    "        print(event[\"data\"][\"chunk\"].content, end=\"\", flush =True)"
   ]
  },
  {
   "cell_type": "code",
   "execution_count": null,
   "id": "a02fa9aa",
   "metadata": {},
   "outputs": [],
   "source": []
  }
 ],
 "metadata": {
  "kernelspec": {
   "display_name": "venv",
   "language": "python",
   "name": "python3"
  },
  "language_info": {
   "codemirror_mode": {
    "name": "ipython",
    "version": 3
   },
   "file_extension": ".py",
   "mimetype": "text/x-python",
   "name": "python",
   "nbconvert_exporter": "python",
   "pygments_lexer": "ipython3",
   "version": "3.13.5"
  }
 },
 "nbformat": 4,
 "nbformat_minor": 5
}
